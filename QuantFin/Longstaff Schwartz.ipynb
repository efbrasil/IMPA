{
 "cells": [
  {
   "cell_type": "code",
   "execution_count": 6,
   "metadata": {
    "collapsed": true
   },
   "outputs": [],
   "source": [
    "import numpy as np\n",
    "from math import exp, log, sqrt\n",
    "import scipy.stats as ss\n",
    "import matplotlib.pyplot as plt\n",
    "\n",
    "def longstaff_schwartz_lsm_american_put(paths, r, K, dt):\n",
    "\n",
    "    # periods e' o numero de passos simulados, incluindo o inicial e runs\n",
    "    # e' o numero de simulacoes realizadas\n",
    "    periods = paths.shape[1]\n",
    "    runs = paths.shape[0]\n",
    "\n",
    "    cashflows = np.matrix(np.zeros(paths.shape))\n",
    "    stops = np.matrix(np.zeros(paths.shape), dtype = bool)\n",
    "\n",
    "    # Trata o ultimo perido, no qual a opcao sempre e' exercida\n",
    "    cashflows[:, periods - 1] = np.maximum(K - paths[:, periods - 1], 0)\n",
    "\n",
    "    # Tratamento dos periodos intermediarios\n",
    "    for period in reversed(range(1, periods - 1)):\n",
    "\n",
    "        # Precos simulados\n",
    "        prices = np.asarray(paths[:, period].T)[0]\n",
    "\n",
    "        # Verifica quais caminhos estao on the money no instante avaliado\n",
    "        runs_on_the_money = np.where(prices < K)[0]\n",
    "\n",
    "        # Para cada caminho on the money, devemos comparar o resultado do\n",
    "        # exercicio com o valor esperado de esperar. Para calcular o valor\n",
    "        # esperado de esperar, iremos fazer uma regressao dos retornos\n",
    "        # futuros dos caminhos que estão on the money em funcao dos prceos\n",
    "        # atuais\n",
    "\n",
    "        # Resultado do exercicio imediato dos caminhos on the money\n",
    "        immed_exerc = K - prices[runs_on_the_money]\n",
    "\n",
    "        # Vetor com os coeficientes de desconto dos fluxos futuros\n",
    "        discount = np.matrix([1 / exp(r * t * dt) for t in range(1, periods - period)])\n",
    "\n",
    "        # Retornos obtidos no futuro dos caminhos on the money\n",
    "        future_cashflows = np.asarray(discount * cashflows[runs_on_the_money, period + 1:].T)[0]\n",
    "\n",
    "        # Regressao nos caminhos que estão on the money\n",
    "        coefs = np.polyfit(prices[runs_on_the_money], future_cashflows, 2)\n",
    "        poly = np.poly1d(coefs)\n",
    "\n",
    "        # Calcula os retornos esperados se nao vender\n",
    "        expected_delayed_exerc = poly(prices[runs_on_the_money])\n",
    "\n",
    "        # Caminhos onde e' melhor exercer imediatamente\n",
    "        exercise = runs_on_the_money[immed_exerc > expected_delayed_exerc]\n",
    "        stops[exercise, period] = True\n",
    "        stops[exercise, period + 1:] = False\n",
    "\n",
    "        # Atualiza os retornos dos caminhos onde e' melhor exercer e zera os\n",
    "        # retornos futuros desses caminhos\n",
    "        cashflows[exercise, period] = (K - prices)[exercise]\n",
    "        cashflows[exercise, period + 1:] = 0\n",
    "\n",
    "\n",
    "    # Calcula o valor presente medio dos varios caminhos\n",
    "    discount = np.matrix([1 / exp(r * t * dt) for t in range(0, periods)])\n",
    "    option_value = np.mean(cashflows * discount.T)\n",
    "\n",
    "    return(option_value)"
   ]
  },
  {
   "cell_type": "code",
   "execution_count": 4,
   "metadata": {
    "collapsed": true
   },
   "outputs": [],
   "source": [
    "def test_longstaff_schwartz():\n",
    "\n",
    "    # Exemplo do paper / aula\n",
    "    paths = np.matrix([[1.00, 1.09, 1.08, 1.34],\n",
    "                       [1.00, 1.16, 1.26, 1.54],\n",
    "                       [1.00, 1.22, 1.07, 1.03],\n",
    "                       [1.00, 0.93, 0.97, 0.92],\n",
    "                       [1.00, 1.11, 1.56, 1.52],\n",
    "                       [1.00, 0.76, 0.77, 0.90],\n",
    "                       [1.00, 0.92, 0.84, 1.01],\n",
    "                       [1.00, 0.88, 1.22, 1.34]])\n",
    "\n",
    "    r = 0.06\n",
    "    K = 1.1\n",
    "    d = 1\n",
    "\n",
    "    return(longstaff_schwartz_lsm_american_put(paths, r, K, d))"
   ]
  },
  {
   "cell_type": "code",
   "execution_count": 5,
   "metadata": {
    "collapsed": false
   },
   "outputs": [
    {
     "data": {
      "text/plain": [
       "0.11443433004505696"
      ]
     },
     "execution_count": 5,
     "metadata": {},
     "output_type": "execute_result"
    }
   ],
   "source": [
    "test_longstaff_schwartz()"
   ]
  }
 ],
 "metadata": {
  "kernelspec": {
   "display_name": "Python 3",
   "language": "python",
   "name": "python3"
  },
  "language_info": {
   "codemirror_mode": {
    "name": "ipython",
    "version": 3
   },
   "file_extension": ".py",
   "mimetype": "text/x-python",
   "name": "python",
   "nbconvert_exporter": "python",
   "pygments_lexer": "ipython3",
   "version": "3.5.3"
  }
 },
 "nbformat": 4,
 "nbformat_minor": 2
}
